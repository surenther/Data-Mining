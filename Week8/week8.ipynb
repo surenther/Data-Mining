{
 "cells": [
  {
   "cell_type": "code",
   "execution_count": null,
   "id": "38d00f42",
   "metadata": {},
   "outputs": [],
   "source": [
    "# ----------------------------------------------------------------------------\n",
    "# Title: Assignment 8.2\n",
    "# Author: Surenther Selvaraj\n",
    "# Date: 01 Nov 2025\n",
    "# Modified By: Surenther Selvaraj\n",
    "# Description: Term Project Milestone 2: Data Preparation\n",
    "# Data: https://www.kaggle.com/datasets/imakash3011/customer-personality-analysis\n",
    "# ----------------------------------------------------------------------------"
   ]
  },
  {
   "cell_type": "markdown",
   "id": "dba898aa",
   "metadata": {},
   "source": [
    "## Term Project Milestone 2: Data Preparation Plan\n",
    "This document outlines the initial data preparation and feature engineering strategy for the classification model, specifically focusing on identifying and dropping features that are non-predictive, redundant, or problematic for the modeling process."
   ]
  },
  {
   "cell_type": "markdown",
   "id": "96a04921",
   "metadata": {},
   "source": [
    "### 1. Feature Drop Strategy\n",
    "\n",
    "To optimize the model's performance and prevent data leakage or multicollinearity, several features from the raw dataset will be excluded.\n",
    "\n",
    "| Feature to Drop  | Rationale for Exclusion  |  Category |\n",
    "|---|---|---|\n",
    "| ID  | This is a unique customer identifier. It has no predictive power and should be dropped to prevent the model from memorizing individual observations.  | Non-Predictive  |\n",
    "| Dt_Customer  | Date of customer enrollment. While conversion time might be relevant, the more actionable and direct time-based feature, Recency, is already available and highly predictive (as shown in Graph 3).  | Redundant/High Cardinality  |\n",
    "| Z_CostContact  | Standardized cost of customer contact. This column is constant across all customers in the dataset (a value of 3) and therefore provides zero variance or predictive information.  | Zero-Variance |\n",
    "| Z_Revenue | Standardized revenue from contact. This column is constant across all customers (a value of 11) and provides zero variance or predictive information.  | Zero-Variance |\n",
    "| AcceptedCmp1 to AcceptedCmp5 | Response to previous campaigns. These features represent the outcome of past offers. Using them to predict the current campaign's Response (which is effectively AcceptedCmp6) creates severe data leakage, as a positive response to a previous similar campaign is an unnaturally strong predictor for the current one. Dropping these ensures the model generalizes to new campaigns.  | Data Leakage |\n",
    "| Complain | Customer complaint status. While technically a potential predictor, the count of complaints is extremely low, leading to highly skewed classes that provide minimal signal for a classification model focused on positive response prediction.  | Near Zero-Variance |\n"
   ]
  },
  {
   "cell_type": "markdown",
   "id": "22903bb9",
   "metadata": {},
   "source": [
    "### 2. Features to Keep and Transform\n",
    "\n",
    "The remaining features will be kept as they are highly relevant to the business problem (customer wealth, engagement, and past purchase behavior).\n",
    "\n",
    "| Feature Type  | Features to Keep |  Required Transformation |\n",
    "|---|---|---|\n",
    "| Target  | Response  | None (already binary: 0 or 1)  |\n",
    "| Demographic  | Income, Year_Birth (used to calculate Age), Marital_Status, Education, Kidhome, Teenhome  | Age is derived. Marital_Status and Education require one-hot encoding.  |\n",
    "| Behavior  | Recency | None (numerical, already normalized).  |\n",
    "| Spending  | MntWines, MntFruits, MntMeatProducts, MntFishProducts, MntSweetProducts, MntGoldProds | None (numerical, may require scaling).  |\n",
    "| Channel  | NumDealsPurchases, NumWebPurchases, NumCatalogPurchases, NumStorePurchases, NumWebVisitsMonth | None (numerical, may require scaling).  |"
   ]
  }
 ],
 "metadata": {
  "kernelspec": {
   "display_name": ".venv",
   "language": "python",
   "name": "python3"
  },
  "language_info": {
   "codemirror_mode": {
    "name": "ipython",
    "version": 3
   },
   "file_extension": ".py",
   "mimetype": "text/x-python",
   "name": "python",
   "nbconvert_exporter": "python",
   "pygments_lexer": "ipython3",
   "version": "3.13.3"
  }
 },
 "nbformat": 4,
 "nbformat_minor": 5
}
