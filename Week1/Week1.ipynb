{
 "cells": [
  {
   "cell_type": "code",
   "execution_count": 21,
   "id": "690e861e",
   "metadata": {},
   "outputs": [],
   "source": [
    "# ----------------------------------------------------------------------------\n",
    "# Title: Assignment 1.2\n",
    "# Author: Surenther Selvaraj\n",
    "# Date: 13 September 2025\n",
    "# Modified By: Surenther Selvaraj\n",
    "# Description: Exploring a Pandas Data Frame\n",
    "# ----------------------------------------------------------------------------"
   ]
  },
  {
   "cell_type": "code",
   "execution_count": 22,
   "id": "2c9b61b9",
   "metadata": {},
   "outputs": [],
   "source": [
    "#Load Data from Kaggle\n",
    "import pandas as pd\n",
    "import numpy as np\n",
    "import kagglehub\n",
    "from kagglehub import KaggleDatasetAdapter\n",
    "\n",
    "# The path to the dataset on Kaggle\n",
    "dataset_path = \"rush4ratio/video-game-sales-with-ratings\"\n",
    "\n",
    "# The file name of the dataset\n",
    "file_name = \"Video_Games_Sales_as_at_22_Dec_2016.csv\"\n"
   ]
  },
  {
   "cell_type": "code",
   "execution_count": 23,
   "id": "c0750eca",
   "metadata": {},
   "outputs": [
    {
     "name": "stdout",
     "output_type": "stream",
     "text": [
      "                        Name Platform  Year_of_Release         Genre  \\\n",
      "0                 Wii Sports      Wii           2006.0        Sports   \n",
      "1          Super Mario Bros.      NES           1985.0      Platform   \n",
      "2             Mario Kart Wii      Wii           2008.0        Racing   \n",
      "3          Wii Sports Resort      Wii           2009.0        Sports   \n",
      "4   Pokemon Red/Pokemon Blue       GB           1996.0  Role-Playing   \n",
      "5                     Tetris       GB           1989.0        Puzzle   \n",
      "6      New Super Mario Bros.       DS           2006.0      Platform   \n",
      "7                   Wii Play      Wii           2006.0          Misc   \n",
      "8  New Super Mario Bros. Wii      Wii           2009.0      Platform   \n",
      "9                  Duck Hunt      NES           1984.0       Shooter   \n",
      "\n",
      "  Publisher  NA_Sales  EU_Sales  JP_Sales  Other_Sales  Global_Sales  \\\n",
      "0  Nintendo     41.36     28.96      3.77         8.45         82.53   \n",
      "1  Nintendo     29.08      3.58      6.81         0.77         40.24   \n",
      "2  Nintendo     15.68     12.76      3.79         3.29         35.52   \n",
      "3  Nintendo     15.61     10.93      3.28         2.95         32.77   \n",
      "4  Nintendo     11.27      8.89     10.22         1.00         31.37   \n",
      "5  Nintendo     23.20      2.26      4.22         0.58         30.26   \n",
      "6  Nintendo     11.28      9.14      6.50         2.88         29.80   \n",
      "7  Nintendo     13.96      9.18      2.93         2.84         28.92   \n",
      "8  Nintendo     14.44      6.94      4.70         2.24         28.32   \n",
      "9  Nintendo     26.93      0.63      0.28         0.47         28.31   \n",
      "\n",
      "   Critic_Score  Critic_Count User_Score  User_Count Developer Rating  \n",
      "0          76.0          51.0          8       322.0  Nintendo      E  \n",
      "1           NaN           NaN        NaN         NaN       NaN    NaN  \n",
      "2          82.0          73.0        8.3       709.0  Nintendo      E  \n",
      "3          80.0          73.0          8       192.0  Nintendo      E  \n",
      "4           NaN           NaN        NaN         NaN       NaN    NaN  \n",
      "5           NaN           NaN        NaN         NaN       NaN    NaN  \n",
      "6          89.0          65.0        8.5       431.0  Nintendo      E  \n",
      "7          58.0          41.0        6.6       129.0  Nintendo      E  \n",
      "8          87.0          80.0        8.4       594.0  Nintendo      E  \n",
      "9           NaN           NaN        NaN         NaN       NaN    NaN  \n"
     ]
    }
   ],
   "source": [
    "# Load the dataset directly into a pandas DataFrame\n",
    "df = kagglehub.dataset_load(\n",
    "    KaggleDatasetAdapter.PANDAS,\n",
    "    dataset_path,\n",
    "    file_name\n",
    ")\n",
    "\n",
    "# Display the first few rows of the DataFrame\n",
    "print(df.head(10))"
   ]
  },
  {
   "cell_type": "code",
   "execution_count": 24,
   "id": "ca0ac6b4",
   "metadata": {},
   "outputs": [
    {
     "name": "stdout",
     "output_type": "stream",
     "text": [
      "The dimensions of the DataFrame are: (16719, 16)\n"
     ]
    }
   ],
   "source": [
    "# Find the dimensions of the DataFrame (rows, columns)\n",
    "dimensions = df.shape\n",
    "print(f\"The dimensions of the DataFrame are: {dimensions}\")"
   ]
  },
  {
   "cell_type": "markdown",
   "id": "23ce62a7",
   "metadata": {},
   "source": [
    "The first number, 17415, represents the number of rows. In this dataset, each row corresponds to a single video game and its associated sales data and ratings.\n",
    "\n",
    "The second number, 16, represents the number of columns. Each column represents a specific attribute or feature of the video game, such as its name, platform, release year, genre, publisher, and various sales figures."
   ]
  },
  {
   "cell_type": "code",
   "execution_count": 25,
   "id": "5c57ada3",
   "metadata": {},
   "outputs": [
    {
     "name": "stdout",
     "output_type": "stream",
     "text": [
      "Top five games by critic score:\n",
      "                          Name  Critic_Score\n",
      "227   Tony Hawk's Pro Skater 2          98.0\n",
      "57         Grand Theft Auto IV          98.0\n",
      "51         Grand Theft Auto IV          98.0\n",
      "5350               SoulCalibur          98.0\n",
      "165         Grand Theft Auto V          97.0\n"
     ]
    }
   ],
   "source": [
    "# Sort the DataFrame by 'Critic_Score' in descending order and get the top 5.\n",
    "# also dropped any rows where the 'Critic_Score' is missing to ensure a clean sort.\n",
    "top_five_games = df.dropna(subset=['Critic_Score']).sort_values(\n",
    "    by='Critic_Score',\n",
    "    ascending=False\n",
    ").head(5)\n",
    "\n",
    "# Display the result\n",
    "print(\"Top five games by critic score:\")\n",
    "print(top_five_games[['Name', 'Critic_Score']])"
   ]
  },
  {
   "cell_type": "code",
   "execution_count": 26,
   "id": "9693e71e",
   "metadata": {},
   "outputs": [
    {
     "name": "stdout",
     "output_type": "stream",
     "text": [
      "Number of video games in each genre:\n",
      "Genre\n",
      "Action          3370\n",
      "Sports          2348\n",
      "Misc            1750\n",
      "Role-Playing    1500\n",
      "Shooter         1323\n",
      "Adventure       1303\n",
      "Racing          1249\n",
      "Platform         888\n",
      "Simulation       874\n",
      "Fighting         849\n",
      "Strategy         683\n",
      "Puzzle           580\n",
      "Name: count, dtype: int64\n"
     ]
    }
   ],
   "source": [
    "# Find the number of video games in each genre\n",
    "genre_counts = df['Genre'].value_counts()\n",
    "\n",
    "# Display the result\n",
    "print(\"Number of video games in each genre:\")\n",
    "print(genre_counts)"
   ]
  },
  {
   "cell_type": "code",
   "execution_count": 27,
   "id": "d63c48de",
   "metadata": {},
   "outputs": [
    {
     "name": "stdout",
     "output_type": "stream",
     "text": [
      "First five games on the SNES platform, sorted by release year:\n",
      "                   Name Platform  Year_of_Release       Genre Publisher  \\\n",
      "18    Super Mario World     SNES           1990.0    Platform  Nintendo   \n",
      "1195        Final Fight     SNES           1990.0      Action    Capcom   \n",
      "511              F-Zero     SNES           1990.0      Racing  Nintendo   \n",
      "1791         Pilotwings     SNES           1990.0  Simulation  Nintendo   \n",
      "1111      Super Scope 6     SNES           1991.0     Shooter  Nintendo   \n",
      "\n",
      "      NA_Sales  EU_Sales  JP_Sales  Other_Sales  Global_Sales  Critic_Score  \\\n",
      "18       12.78      3.75      3.54         0.55         20.61           NaN   \n",
      "1195      0.67      0.17      0.69         0.03          1.56           NaN   \n",
      "511       1.37      0.51      0.89         0.07          2.85           NaN   \n",
      "1791      0.46      0.17      0.48         0.02          1.14           NaN   \n",
      "1111      1.06      0.38      0.15         0.05          1.65           NaN   \n",
      "\n",
      "      Critic_Count User_Score  User_Count Developer Rating  \n",
      "18             NaN        NaN         NaN       NaN    NaN  \n",
      "1195           NaN        NaN         NaN       NaN    NaN  \n",
      "511            NaN        NaN         NaN       NaN    NaN  \n",
      "1791           NaN        NaN         NaN       NaN    NaN  \n",
      "1111           NaN        NaN         NaN       NaN    NaN  \n"
     ]
    }
   ],
   "source": [
    "# Filter for SNES games and sort by release year in ascending order\n",
    "snes_games = df[df['Platform'] == 'SNES'].sort_values(\n",
    "    by='Year_of_Release',\n",
    "    ascending=True\n",
    ")\n",
    "\n",
    "# Display the first five games\n",
    "print(\"First five games on the SNES platform, sorted by release year:\")\n",
    "print(snes_games.head(5))"
   ]
  },
  {
   "cell_type": "code",
   "execution_count": 28,
   "id": "6351a8b3",
   "metadata": {},
   "outputs": [
    {
     "name": "stdout",
     "output_type": "stream",
     "text": [
      "Top five publishers by total global sales:\n",
      "Publisher\n",
      "Nintendo                       1788.81\n",
      "Electronic Arts                1116.96\n",
      "Activision                      731.16\n",
      "Sony Computer Entertainment     606.48\n",
      "Ubisoft                         471.61\n",
      "Name: Global_Sales, dtype: float64\n"
     ]
    }
   ],
   "source": [
    "# Calculate the total global sales for each publisher\n",
    "publisher_sales = df.groupby('Publisher')['Global_Sales'].sum()\n",
    "\n",
    "# Sort the results in descending order and get the top five\n",
    "top_five_publishers = publisher_sales.sort_values(ascending=False).head(5)\n",
    "\n",
    "# Display the result\n",
    "print(\"Top five publishers by total global sales:\")\n",
    "print(top_five_publishers)"
   ]
  },
  {
   "cell_type": "code",
   "execution_count": 29,
   "id": "3b8b1fdf",
   "metadata": {},
   "outputs": [
    {
     "name": "stdout",
     "output_type": "stream",
     "text": [
      "First five rows with the new 'NA_Sales_Percentage' column:\n",
      "                       Name Platform  Year_of_Release         Genre Publisher  \\\n",
      "0                Wii Sports      Wii           2006.0        Sports  Nintendo   \n",
      "1         Super Mario Bros.      NES           1985.0      Platform  Nintendo   \n",
      "2            Mario Kart Wii      Wii           2008.0        Racing  Nintendo   \n",
      "3         Wii Sports Resort      Wii           2009.0        Sports  Nintendo   \n",
      "4  Pokemon Red/Pokemon Blue       GB           1996.0  Role-Playing  Nintendo   \n",
      "\n",
      "   NA_Sales  EU_Sales  JP_Sales  Other_Sales  Global_Sales  Critic_Score  \\\n",
      "0     41.36     28.96      3.77         8.45         82.53          76.0   \n",
      "1     29.08      3.58      6.81         0.77         40.24           NaN   \n",
      "2     15.68     12.76      3.79         3.29         35.52          82.0   \n",
      "3     15.61     10.93      3.28         2.95         32.77          80.0   \n",
      "4     11.27      8.89     10.22         1.00         31.37           NaN   \n",
      "\n",
      "   Critic_Count User_Score  User_Count Developer Rating  NA_Sales_Percentage  \n",
      "0          51.0          8       322.0  Nintendo      E            50.115110  \n",
      "1           NaN        NaN         NaN       NaN    NaN            72.266402  \n",
      "2          73.0        8.3       709.0  Nintendo      E            44.144144  \n",
      "3          73.0          8       192.0  Nintendo      E            47.635032  \n",
      "4           NaN        NaN         NaN       NaN    NaN            35.926044  \n"
     ]
    }
   ],
   "source": [
    "# Calculate the percentage of global sales from North America\n",
    "# We use .fillna(0) to handle any cases where Global_Sales might be 0, to avoid division by zero errors.\n",
    "df['NA_Sales_Percentage'] = (df['NA_Sales'] / df['Global_Sales']).fillna(0) * 100\n",
    "\n",
    "# Display the first five rows of the updated DataFrame\n",
    "print(\"First five rows with the new 'NA_Sales_Percentage' column:\")\n",
    "print(df.head())\n"
   ]
  },
  {
   "cell_type": "code",
   "execution_count": 30,
   "id": "5e2e569b",
   "metadata": {},
   "outputs": [
    {
     "name": "stdout",
     "output_type": "stream",
     "text": [
      "Number of missing values (NaN) in each column:\n",
      "Name                      2\n",
      "Platform                  0\n",
      "Year_of_Release         269\n",
      "Genre                     2\n",
      "Publisher                54\n",
      "NA_Sales                  0\n",
      "EU_Sales                  0\n",
      "JP_Sales                  0\n",
      "Other_Sales               0\n",
      "Global_Sales              0\n",
      "Critic_Score           8582\n",
      "Critic_Count           8582\n",
      "User_Score             6704\n",
      "User_Count             9129\n",
      "Developer              6623\n",
      "Rating                 6769\n",
      "NA_Sales_Percentage       0\n",
      "dtype: int64\n"
     ]
    }
   ],
   "source": [
    "# Find the number of NaN entries in each column\n",
    "nan_counts = df.isnull().sum()\n",
    "\n",
    "# Display the result\n",
    "print(\"Number of missing values (NaN) in each column:\")\n",
    "print(nan_counts)"
   ]
  },
  {
   "cell_type": "code",
   "execution_count": 31,
   "id": "e9473cfa",
   "metadata": {},
   "outputs": [
    {
     "name": "stdout",
     "output_type": "stream",
     "text": [
      "Calculated median user score: 7.5\n",
      "\n",
      "First 10 entries of the updated 'User_Score' column:\n",
      "0    8.0\n",
      "1    7.5\n",
      "2    8.3\n",
      "3    8.0\n",
      "4    7.5\n",
      "5    7.5\n",
      "6    8.5\n",
      "7    6.6\n",
      "8    8.4\n",
      "9    7.5\n",
      "Name: User_Score, dtype: float64\n",
      "\n",
      "Check for remaining NaN values (should be 0):\n",
      "0\n"
     ]
    }
   ],
   "source": [
    "# Replace the non-numerical string (e.g., 'tbd') with NaN\n",
    "df['User_Score'] = df['User_Score'].replace('tbd', np.nan)\n",
    "\n",
    "# Convert the column to a float type to ensure proper calculations\n",
    "df['User_Score'] = pd.to_numeric(df['User_Score'])\n",
    "\n",
    "# Calculate the median of the cleaned user scores, ignoring NaN values\n",
    "median_user_score = df['User_Score'].median()\n",
    "\n",
    "# Replace all NaN entries in the 'User_Score' column with the calculated median\n",
    "df['User_Score'] = df['User_Score'].fillna(median_user_score)\n",
    "\n",
    "# Display the updated user score column and the calculated median for verification\n",
    "print(f\"Calculated median user score: {median_user_score}\")\n",
    "print(\"\\nFirst 10 entries of the updated 'User_Score' column:\")\n",
    "print(df['User_Score'].head(10))\n",
    "print(\"\\nCheck for remaining NaN values (should be 0):\")\n",
    "print(df['User_Score'].isnull().sum())"
   ]
  }
 ],
 "metadata": {
  "kernelspec": {
   "display_name": ".venv",
   "language": "python",
   "name": "python3"
  },
  "language_info": {
   "codemirror_mode": {
    "name": "ipython",
    "version": 3
   },
   "file_extension": ".py",
   "mimetype": "text/x-python",
   "name": "python",
   "nbconvert_exporter": "python",
   "pygments_lexer": "ipython3",
   "version": "3.13.3"
  }
 },
 "nbformat": 4,
 "nbformat_minor": 5
}
