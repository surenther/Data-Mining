{
 "cells": [
  {
   "cell_type": "code",
   "execution_count": null,
   "id": "d93f4a4b",
   "metadata": {},
   "outputs": [],
   "source": [
    "# ----------------------------------------------------------------------------\n",
    "# Title: Assignment 6.2\n",
    "# Author: Surenther Selvaraj\n",
    "# Date: 19 Oct 2025\n",
    "# Modified By: Surenther Selvaraj\n",
    "# Description: Term Project Milestone 1: Data Selection and EDA\n",
    "# Data: https://www.kaggle.com/datasets/imakash3011/customer-personality-analysis\n",
    "# ----------------------------------------------------------------------------"
   ]
  },
  {
   "cell_type": "markdown",
   "id": "279cd8ec",
   "metadata": {},
   "source": [
    "## Project Narrative: Business Problem and Model Target\n",
    "\n",
    "The original business problem is now refocused on optimizing marketing spend for a consumer retail company whose data is provided in the Kaggle Customer Personality Analysis Dataset. The company frequently runs direct marketing campaigns (e.g., promotional emails, mailers, or catalog offers) but faces two main challenges: a low overall campaign acceptance rate and high associated mailing/contact costs. This leads to inefficient resource allocation and poor Return on Investment (ROI) for marketing efforts.\n",
    "\n",
    "The core problem is the lack of a predictive targeting model to filter the customer base and identify which individuals are most likely to accept the new offer before the campaign is launched. Currently, campaigns are deployed broadly, wasting resources on customers who are unlikely to convert.\n",
    "\n",
    "The business solution is to build a classification model that calculates a propensity-to-purchase score for each customer. This score will allow the marketing team to target only the top 10% or 20% of customers most likely to respond, drastically lowering the contact volume while maintaining or even increasing the absolute number of campaign acceptances, thereby maximizing ROI.\n",
    "\n",
    "The Target for the Model:\n",
    "The model's target variable will be Response, a binary outcome (1 = Accepted the last campaign offer, 0 = Did not accept). This is a classic classification problem. The final model will predict $P(\\text{Response}=1)$ using customer demographics, past spending habits, and previous campaign success metrics. This real-world application provides a tangible business benefit by directly improving marketing efficiency."
   ]
  },
  {
   "cell_type": "markdown",
   "id": "ad6ad9c9",
   "metadata": {},
   "source": [
    "## 2. Data Selection and Initial EDA\n",
    "\n",
    "### Data Source\n",
    "The analysis uses a real-world dataset sourced from Kaggle: Customer Personality Analysis. This dataset contains information on customer demographics, product spending (e.g., on wines, fruits, meat), and prior marketing campaign responses for a retail company.\n",
    "\n",
    "### Key Variables\n",
    "| Variable  | Type  |  Description |\n",
    "|---|---|---|\n",
    "| Income  | Numerical  | Customer's yearly household income.  |\n",
    "| Recency  | Numerical  | Number of days since the customer’s last purchase (low = high engagement).  |\n",
    "| MntWines   | Numerical  | Amount spent on wine in the last 2 years (a proxy for total high-value spending).   |\n",
    "| Education  | Categorical  | Customer's education level (e.g., Graduation, PhD, Master).   |\n",
    "| NumWebPurchases  | Numerical  | Number of purchases made through the company's website.   |\n",
    "| Response  | Binary (Target)  | 1 if the customer accepted the last campaign offer, 0 otherwise.  |"
   ]
  },
  {
   "cell_type": "markdown",
   "id": "436b530a",
   "metadata": {},
   "source": []
  }
 ],
 "metadata": {
  "language_info": {
   "name": "python"
  }
 },
 "nbformat": 4,
 "nbformat_minor": 5
}
