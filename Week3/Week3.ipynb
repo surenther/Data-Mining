{
 "cells": [
  {
   "cell_type": "code",
   "execution_count": 11,
   "id": "77688027",
   "metadata": {},
   "outputs": [],
   "source": [
    "# ----------------------------------------------------------------------------\n",
    "# Title: Assignment 3.2\n",
    "# Author: Surenther Selvaraj\n",
    "# Date: 26 September 2025\n",
    "# Modified By: Surenther Selvaraj\n",
    "# Description: Sentiment Analysis and Preprocessing Text\n",
    "# Data: https://www.kaggle.com/c/word2vec-nlp-tutorial/data\n",
    "# ----------------------------------------------------------------------------"
   ]
  },
  {
   "cell_type": "code",
   "execution_count": 12,
   "id": "0b8aa834",
   "metadata": {},
   "outputs": [
    {
     "name": "stdout",
     "output_type": "stream",
     "text": [
      "\n",
      "First 5 rows of the DataFrame:\n",
      "       id  sentiment                                             review\n",
      "0  5814_8          1  With all this stuff going down at the moment w...\n",
      "1  2381_9          1  \\The Classic War of the Worlds\\\" by Timothy Hi...\n",
      "2  7759_3          0  The film starts with a manager (Nicholas Bell)...\n",
      "3  3630_4          0  It must be assumed that those who praised this...\n",
      "4  9495_8          1  Superbly trashy and wondrously unpretentious 8...\n"
     ]
    }
   ],
   "source": [
    "#Import the movie review data\n",
    "import pandas as pd\n",
    "from textblob import TextBlob\n",
    "from sklearn.metrics import accuracy_score\n",
    "\n",
    "# The name of the file\n",
    "file_name = \"labeledTrainData.tsv\"\n",
    "\n",
    "# Using pandas.read_csv with the correct delimiter for a .tsv file\n",
    "df = pd.read_csv(file_name, sep='\\t')\n",
    "\n",
    "# Check if the data is loaded properly by displaying the first few rows\n",
    "print(\"\\nFirst 5 rows of the DataFrame:\")\n",
    "print(df.head())\n"
   ]
  },
  {
   "cell_type": "code",
   "execution_count": 13,
   "id": "fc7be67e",
   "metadata": {},
   "outputs": [
    {
     "name": "stdout",
     "output_type": "stream",
     "text": [
      "Number of positive and negative reviews:\n",
      "Positive Reviews (1): 12500\n",
      "Negative Reviews (0): 12500\n"
     ]
    }
   ],
   "source": [
    "# Count the number of positive and negative reviews\n",
    "sentiment_counts = df['sentiment'].value_counts()\n",
    "\n",
    "# Print the results with clear labels\n",
    "print(\"Number of positive and negative reviews:\")\n",
    "print(f\"Positive Reviews (1): {sentiment_counts[1]}\")\n",
    "print(f\"Negative Reviews (0): {sentiment_counts[0]}\")"
   ]
  },
  {
   "cell_type": "code",
   "execution_count": 14,
   "id": "2e82813d",
   "metadata": {},
   "outputs": [
    {
     "name": "stdout",
     "output_type": "stream",
     "text": [
      "Classifying movie reviews using TextBlob...\n",
      "\n",
      "First 5 rows with the new TextBlob_Sentiment column:\n",
      "                                              review  sentiment  \\\n",
      "0  With all this stuff going down at the moment w...          1   \n",
      "1  \\The Classic War of the Worlds\\\" by Timothy Hi...          1   \n",
      "2  The film starts with a manager (Nicholas Bell)...          0   \n",
      "3  It must be assumed that those who praised this...          0   \n",
      "4  Superbly trashy and wondrously unpretentious 8...          1   \n",
      "\n",
      "  TextBlob_Sentiment  \n",
      "0           Positive  \n",
      "1           Positive  \n",
      "2           Negative  \n",
      "3           Positive  \n",
      "4           Negative  \n",
      "\n",
      "--- Summary of TextBlob Sentiment Classification ---\n",
      "TextBlob_Sentiment\n",
      "Positive    19017\n",
      "Negative     5983\n",
      "Name: count, dtype: int64\n"
     ]
    }
   ],
   "source": [
    "# --- TextBlob Sentiment Analysis ---\n",
    "\n",
    "# Analyzes the sentiment of a given text using TextBlob. Returns 'Positive' if polarity >= 0, otherwise 'Negative'.\n",
    "def get_textblob_sentiment(text):\n",
    "    analysis = TextBlob(text)\n",
    "    if analysis.sentiment.polarity >= 0:\n",
    "        return 'Positive'\n",
    "    else:\n",
    "        return 'Negative'\n",
    "\n",
    "# Apply the sentiment analysis function to the 'review' column\n",
    "print(\"Classifying movie reviews using TextBlob...\")\n",
    "df['TextBlob_Sentiment'] = df['review'].apply(get_textblob_sentiment)\n",
    "\n",
    "# Display Results\n",
    "print(\"\\nFirst 5 rows with the new TextBlob_Sentiment column:\")\n",
    "print(df[['review', 'sentiment', 'TextBlob_Sentiment']].head())\n",
    "print(\"\\n--- Summary of TextBlob Sentiment Classification ---\")\n",
    "print(df['TextBlob_Sentiment'].value_counts())\n"
   ]
  },
  {
   "cell_type": "code",
   "execution_count": null,
   "id": "d26b1e8b",
   "metadata": {},
   "outputs": [
    {
     "name": "stdout",
     "output_type": "stream",
     "text": [
      "\n",
      "--- Model Accuracy ---\n",
      "The accuracy of the TextBlob model is: 0.69\n"
     ]
    }
   ],
   "source": [
    "# --- TextBlob Accuracy Calculation ---\n",
    "\n",
    "# Map the original numerical sentiment to text labels for comparison\n",
    "df['true_sentiment_text'] = df['sentiment'].map({1: 'Positive', 0: 'Negative'})\n",
    "\n",
    "# Calculate the accuracy by comparing the true labels to TextBlob's predictions\n",
    "accuracy = accuracy_score(df['true_sentiment_text'], df['TextBlob_Sentiment'])\n",
    "\n",
    "# Display Results\n",
    "\n",
    "print(\"\\n--- Model Accuracy ---\")\n",
    "print(f\"The accuracy of the TextBlob model is: {accuracy:.2f}\")"
   ]
  },
  {
   "cell_type": "markdown",
   "id": "2eacbfc9",
   "metadata": {},
   "source": [
    "### Conclusion and Analysis for TextBlob\n",
    "\n",
    "The model's accuracy is calculated by comparing the sentiment predicted by TextBlob with the true sentiment labels provided in the dataset. Since the dataset is perfectly balanced with 12,500 positive and 12,500 negative reviews, a random guess would have an expected accuracy of 50%. The TextBlob model, leveraging a pre-trained sentiment lexicon, perform much better than this baseline. It's accuracy was 69% (0.69)\n",
    "\n",
    "Therefore, the TextBlob model is significantly better than random guessing. Its accuracy, as you will see from the script's output, will be a good indicator of its effectiveness in classifying movie review sentiment without any prior training."
   ]
  },
  {
   "cell_type": "code",
   "execution_count": null,
   "id": "078bcdf8",
   "metadata": {},
   "outputs": [],
   "source": []
  }
 ],
 "metadata": {
  "kernelspec": {
   "display_name": ".venv",
   "language": "python",
   "name": "python3"
  },
  "language_info": {
   "codemirror_mode": {
    "name": "ipython",
    "version": 3
   },
   "file_extension": ".py",
   "mimetype": "text/x-python",
   "name": "python",
   "nbconvert_exporter": "python",
   "pygments_lexer": "ipython3",
   "version": "3.13.3"
  }
 },
 "nbformat": 4,
 "nbformat_minor": 5
}
